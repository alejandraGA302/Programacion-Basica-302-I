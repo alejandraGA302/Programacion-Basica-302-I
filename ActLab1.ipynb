{
  "nbformat": 4,
  "nbformat_minor": 0,
  "metadata": {
    "colab": {
      "provenance": [],
      "authorship_tag": "ABX9TyP+xkQi3B7Gqvzu8uJZZlvJ",
      "include_colab_link": true
    },
    "kernelspec": {
      "name": "python3",
      "display_name": "Python 3"
    },
    "language_info": {
      "name": "python"
    }
  },
  "cells": [
    {
      "cell_type": "markdown",
      "metadata": {
        "id": "view-in-github",
        "colab_type": "text"
      },
      "source": [
        "<a href=\"https://colab.research.google.com/github/alejandraGA302/Programacion-Basica-302-I/blob/main/ActLab1.ipynb\" target=\"_parent\"><img src=\"https://colab.research.google.com/assets/colab-badge.svg\" alt=\"Open In Colab\"/></a>"
      ]
    },
    {
      "cell_type": "markdown",
      "source": [
        "Actividad de Laboratorio 1  Impresion de Mensajes"
      ],
      "metadata": {
        "id": "_RmK74xCxg7E"
      }
    },
    {
      "cell_type": "markdown",
      "source": [
        "PB302_1.cpp Programa para Bienvenida"
      ],
      "metadata": {
        "id": "wnByBSS9mLb2"
      }
    },
    {
      "cell_type": "code",
      "execution_count": 7,
      "metadata": {
        "colab": {
          "base_uri": "https://localhost:8080/"
        },
        "id": "doxirQv9lijV",
        "outputId": "5b974cf7-efe3-4986-f4c9-5a73fc9f6c82"
      },
      "outputs": [
        {
          "output_type": "stream",
          "name": "stdout",
          "text": [
            "Overwriting PB302_1.cpp\n"
          ]
        }
      ],
      "source": [
        "%%writefile PB302_1.cpp\n",
        "//Programa para imprimir mensaje de bienvenida\n",
        "//Creado por Daniela Alejandra Garcia Aguero\n",
        "//Fecha: 15/Septiembre/2025\n",
        "//PB302_1.cpp\n",
        "#include <iostream>\n",
        "using namespace std;\n",
        "int main()\n",
        "{\n",
        "  cout<<\"Bienvenido Alejandra a Programacion Basica en C++\\n\";\n",
        "  cout<<\"Gracias por Programar en clase\";\n",
        "  return 0;\n",
        "}"
      ]
    },
    {
      "cell_type": "code",
      "source": [
        "!g++ PB302_1.cpp -o PB302_1\n",
        "!./PB302_1"
      ],
      "metadata": {
        "colab": {
          "base_uri": "https://localhost:8080/"
        },
        "id": "JGYIcmKjpxQT",
        "outputId": "736924a5-1883-4dae-cf08-aafd0149940c"
      },
      "execution_count": 8,
      "outputs": [
        {
          "output_type": "stream",
          "name": "stdout",
          "text": [
            "Bienvenido Alejandra a Programacion Basica en C++\n",
            "Gracias por Programar en clase"
          ]
        }
      ]
    }
  ]
}